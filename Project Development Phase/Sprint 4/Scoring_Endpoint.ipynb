{
 "cells": [
  {
   "cell_type": "code",
   "execution_count": 18,
   "id": "314d378e",
   "metadata": {},
   "outputs": [
    {
     "name": "stdout",
     "output_type": "stream",
     "text": [
      "Scoring response\n",
      "{'predictions': [{'fields': ['prediction', 'probability'], 'values': [[1, [0.12412216845200974, 0.8758778315479903]]]}]}\n",
      "1\n",
      "The Website is the Legitimate Website ... Continue!!\n"
     ]
    }
   ],
   "source": [
    "import requests\n",
    "\n",
    "# NOTE: you must manually set API_KEY below using information retrieved from your IBM Cloud account.\n",
    "API_KEY = \"6obABeznZn5tA-IxCaXq-fqblOJRsXOcHyfkAHauaGVI\"\n",
    "token_response = requests.post('https://iam.cloud.ibm.com/identity/token', data={\"apikey\":\n",
    " API_KEY, \"grant_type\": 'urn:ibm:params:oauth:grant-type:apikey'})\n",
    "mltoken = token_response.json()[\"access_token\"]\n",
    "\n",
    "header = {'Content-Type': 'application/json', 'Authorization': 'Bearer ' + mltoken}\n",
    "\n",
    "# NOTE: manually define and pass the array(s) of values to be scored in the next line\n",
    "payload_scoring = {\"input_data\": [{\"field\": [[\"IPAddress\",\"LongURL\",\"ShortURL\",\"@Symbol\",\"//Redirecting\",\"PrefixSuffix\",\"SubDomain\",\"SSLfinal_state\",\"DomainLength\",\"Favicon\",\"Port\",\"HTTPStoken\",\"RequestURL\",\"AnchorURL\",\"LinksInScriptTags\",\"ServerFormHandler\",\"InfoEmail\",\"AbnormalURL\",\"Redirect\",\"Onmouseover\",\"RightClick\",\"PopupWindow\",\"Iframe\",\"AgeofDomain\",\"DNSRecord\",\"WebTraffic\",\"PageRank\",\"GoogleIndex\",\"LinksPointingToPage\",\"StatisticalReport\"\n",
    "]], \"values\": [[-1,-1,-1,1,-1,-1,1,1,-1,1,1,-1,1,0,0,-1,1,-1,0,1,1,1,1,1,-1,1,-1,1,-1,-1]]}]}\n",
    "\n",
    "response_scoring = requests.post('https://us-south.ml.cloud.ibm.com/ml/v4/deployments/876222b8-8095-45a1-872c-5f80ec95a06b/predictions?version=2022-11-16', json=payload_scoring,\n",
    " headers={'Authorization': 'Bearer ' + mltoken})\n",
    "print(\"Scoring response\")\n",
    "predictions=response_scoring.json()\n",
    "print(predictions)\n",
    "pred=predictions['predictions'][0]['values'][0][0]\n",
    "print(pred)\n",
    "if(pred != -1):\n",
    "   print(\"The Website is the Legitimate Website ... Continue!!\")\n",
    "else:\n",
    "   print(\"The Website is not Legitimate... BEWARE!!\")"
   ]
  },
  {
   "cell_type": "code",
   "execution_count": null,
   "id": "050f749d",
   "metadata": {},
   "outputs": [],
   "source": []
  },
  {
   "cell_type": "code",
   "execution_count": null,
   "id": "eda3e121",
   "metadata": {},
   "outputs": [],
   "source": []
  }
 ],
 "metadata": {
  "kernelspec": {
   "display_name": "Python 3 (ipykernel)",
   "language": "python",
   "name": "python3"
  },
  "language_info": {
   "codemirror_mode": {
    "name": "ipython",
    "version": 3
   },
   "file_extension": ".py",
   "mimetype": "text/x-python",
   "name": "python",
   "nbconvert_exporter": "python",
   "pygments_lexer": "ipython3",
   "version": "3.9.12"
  }
 },
 "nbformat": 4,
 "nbformat_minor": 5
}
