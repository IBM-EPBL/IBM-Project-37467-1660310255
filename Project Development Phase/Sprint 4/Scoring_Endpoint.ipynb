{
  "nbformat": 4,
  "nbformat_minor": 0,
  "metadata": {
    "colab": {
      "provenance": []
    },
    "kernelspec": {
      "name": "python3",
      "display_name": "Python 3"
    },
    "language_info": {
      "name": "python"
    }
  },
  "cells": [
    {
      "cell_type": "code",
      "source": [
        "import requests\n",
        "\n",
        "# NOTE: you must manually set API_KEY below using information retrieved from your IBM Cloud account.\n",
        "API_KEY = \"_zDJNAYr2H1KB0sBQR3kFuvmagUppIsgETK_9OyZrPRu\"\n",
        "token_response = requests.post('https://iam.cloud.ibm.com/identity/token', data={\"apikey\":\n",
        " API_KEY, \"grant_type\": 'urn:ibm:params:oauth:grant-type:apikey'})\n",
        "mltoken = token_response.json()[\"access_token\"]\n",
        "\n",
        "header = {'Content-Type': 'application/json', 'Authorization': 'Bearer ' + mltoken}\n",
        "\n",
        "# NOTE: manually define and pass the array(s) of values to be scored in the next line\n",
        "payload_scoring = {\"input_data\": [{\"field\": [[\"IPAddress\",\"LongURL\",\"ShortURL\",\"@Symbol\",\"//Redirecting\",\"PrefixSuffix\",\"SubDomain\",\"SSLfinal_state\",\"DomainLength\",\"Favicon\",\"Port\",\"HTTPStoken\",\"RequestURL\",\"AnchorURL\",\"LinksInScriptTags\",\"ServerFormHandler\",\"InfoEmail\",\"AbnormalURL\",\"Redirect\",\"Onmouseover\",\"RightClick\",\"PopupWindow\",\"Iframe\",\"AgeofDomain\",\"DNSRecord\",\"WebTraffic\",\"PageRank\",\"GoogleIndex\",\"LinksPointingToPage\",\"StatisticalReport\"\n",
        "]], \"values\": [[-1,-1,-1,1,-1,-1,1,1,-1,1,1,-1,1,0,0,-1,1,-1,0,1,1,1,1,1,-1,1,-1,1,-1,-1]]}]}\n",
        "\n",
        "response_scoring = requests.post('https://us-south.ml.cloud.ibm.com/ml/v4/deployments/751812be-bc33-42c6-a200-7b2de99832bd/predictions?version=2022-11-18', json=payload_scoring,\n",
        " headers={'Authorization': 'Bearer ' + mltoken})\n",
        "print(\"Scoring response\")\n",
        "predictions=response_scoring.json()\n",
        "print(predictions)\n",
        "pred=predictions['predictions'][0]['values'][0][0]\n",
        "print(pred)\n",
        "if(pred != -1):\n",
        "   print(\"The Website is the Legitimate Website ... Continue!!\")\n",
        "else:\n",
        "   print(\"The Website is not Legitimate... BEWARE!!\")\n"
      ],
      "metadata": {
        "colab": {
          "base_uri": "https://localhost:8080/"
        },
        "id": "JehEEk7IMwJ8",
        "outputId": "1d9d8f25-feb3-42c1-b054-6551cad1bd7f"
      },
      "execution_count": 15,
      "outputs": [
        {
          "output_type": "stream",
          "name": "stdout",
          "text": [
            "Scoring response\n",
            "{'predictions': [{'fields': ['prediction', 'probability'], 'values': [[1, [0.0, 1.0]]]}]}\n",
            "1\n",
            "The Website is the Legitimate Website ... Continue!!\n"
          ]
        }
      ]
    }
  ]
}